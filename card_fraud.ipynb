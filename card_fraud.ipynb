{
 "cells": [
  {
   "cell_type": "code",
   "execution_count": 1,
   "id": "d29ca0b0-309c-4372-9ce9-7aa73998f278",
   "metadata": {},
   "outputs": [],
   "source": [
    "import pandas as pd\n",
    "import numpy as np"
   ]
  },
  {
   "cell_type": "code",
   "execution_count": null,
   "id": "5efd6e52-6097-4482-bc4f-60865a49acf2",
   "metadata": {},
   "outputs": [],
   "source": [
    "df.read_csv('loan_train.csv')"
   ]
  },
  {
   "cell_type": "code",
   "execution_count": null,
   "id": "e3e69db6-1a6b-4d65-84e1-cd40defaac94",
   "metadata": {},
   "outputs": [],
   "source": [
    "df.Dependents.value_counts()"
   ]
  },
  {
   "cell_type": "code",
   "execution_count": null,
   "id": "4600ed64-6d24-45c9-a203-07f2bbbecd3f",
   "metadata": {},
   "outputs": [],
   "source": [
    "df['Dependents'].replace('3+', 3, inplace = true)"
   ]
  },
  {
   "cell_type": "code",
   "execution_count": null,
   "id": "939c9d65-1d42-4064-9773-7695f6064277",
   "metadata": {},
   "outputs": [],
   "source": [
    "ax = (df['Loan_Status'].value_counts()*100.0 /len(df)).plot(kind='bar', stacked = True, rot = 0)\n",
    "ax.yaxis.set_major_formatter(mtick.PercentFormatter())\n",
    "ax.set_ylabel('% Loan application')\n",
    "ax.set_xlabel('Status')\n",
    "ax.set_ylabel('% Customers')\n",
    "ax.set_title('Application Distribution')\n",
    "totals = []  \n",
    "# finding the values and append to list\n",
    "for i in ax.patches:\n",
    "  totals.append(i.get_width())\n",
    "total = sum(totals)  \n",
    "for i in ax.patches:\n",
    "  ax.text(i.get_x()+.15, i.get_height()-3.5, \\ str(round((i.get_height()/total), 1))+'%', color='white', weight = 'bold')"
   ]
  },
  {
   "cell_type": "code",
   "execution_count": null,
   "id": "1662b48a-31a3-497e-b02f-ac7f5499301d",
   "metadata": {},
   "outputs": [],
   "source": [
    "df.is_null.sum()"
   ]
  },
  {
   "cell_type": "code",
   "execution_count": null,
   "id": "5e3e7b08-19a1-4b23-b70e-bb1c37ca9dc2",
   "metadata": {},
   "outputs": [],
   "source": [
    "# replace missing values with the mode\n",
    "df['Gender'].fillna(df['Gender'].mode()[0], inplace=True)\n",
    "df['Married'].fillna(df['Married'].mode()[0], inplace=True)\n",
    "df['Dependents'].fillna(df['Dependents'].mode()[0], inplace=True)\n",
    "df['Self_Employed'].fillna(df['Self_Employed'].mode()[0], inplace=True)\n",
    "df['Credit_History'].fillna(df['Credit_History'].mode()[0], inplace=True)\n",
    "df['Loan_Amount_Term'].fillna(df['Loan_Amount_Term'].mode()[0], inplace=True)\n",
    "# replace missing values with the median value due to outliers\n",
    "df['LoanAmount'].fillna(df['LoanAmount'].median(), inplace=True)\n",
    "# replacing Y and N in Loan_Status variable with 1 and 0 \n",
    "df['Loan_Status'].replace('N', 0, inplace=True)\n",
    "df['Loan_Status'].replace('Y', 1, inplace=True)"
   ]
  },
  {
   "cell_type": "code",
   "execution_count": null,
   "id": "46554ea0-2610-4569-8bbb-496efb99c53a",
   "metadata": {},
   "outputs": [],
   "source": [
    "# Pearson correlation\n",
    "df.corr()"
   ]
  },
  {
   "cell_type": "code",
   "execution_count": null,
   "id": "d19db374-f3b7-43cf-9e95-97fe024dd293",
   "metadata": {},
   "outputs": [],
   "source": [
    "sns.countplot(x='Credit History', hue = 'Loan status', data = df)\n",
    "plt.title('Credit History Vs loan status \\ncorrlelaton: 0.54')\n",
    "plt.show()"
   ]
  },
  {
   "cell_type": "code",
   "execution_count": null,
   "id": "e2146b9b-af1a-404a-ba4f-86a4cd3c925c",
   "metadata": {},
   "outputs": [],
   "source": [
    "# Loading test data\n",
    "df1 = pd.read_csv('load_test.csv')"
   ]
  },
  {
   "cell_type": "code",
   "execution_count": null,
   "id": "f01b534f-5861-4e3e-87b8-be7fb187e2c5",
   "metadata": {},
   "outputs": [],
   "source": [
    "print('Information on dataset')\n",
    "df1.info()"
   ]
  },
  {
   "cell_type": "code",
   "execution_count": null,
   "id": "7d0293a0-554f-41dd-b596-48283ef97198",
   "metadata": {},
   "outputs": [],
   "source": [
    "# replacing 3+ in Dependents variable with 3 \n",
    "df1['Dependents'].replace('3+', 3, inplace=True)\n",
    "# replace missing values in Test set with mode/median from Training set\n",
    "df1['Gender'].fillna(df['Gender'].mode()[0], inplace=True)\n",
    "df1['Dependents'].fillna(df['Dependents'].mode()[0], inplace=True)\n",
    "df1['Self_Employed'].fillna(df['Self_Employed'].mode()[0], inplace=True)\n",
    "df1['Credit_History'].fillna(df['Credit_History'].mode()[0], inplace=True)\n",
    "df1['Loan_Amount_Term'].fillna(df['Loan_Amount_Term'].mode()[0], inplace=True)\n",
    "df1['LoanAmount'].fillna(df['LoanAmount'].median(), inplace=True)"
   ]
  },
  {
   "cell_type": "code",
   "execution_count": null,
   "id": "8aa71920-6c3a-472d-8232-4ae5a0f3609b",
   "metadata": {},
   "outputs": [],
   "source": [
    "# drop Loan_ID\n",
    "train = df.drop('Loan_ID', axis=1) # train\n",
    "test = df1.drop('Loan_ID', axis=1) # test\n",
    "# drop \"Loan_Status\" and assign it to target variable\n",
    "X = train.drop('Loan_Status', 1)\n",
    "y = train.Loan_Status\n",
    "# adding dummies to the dataset\n",
    "X = pd.get_dummies(X)\n",
    "train = pd.get_dummies(train)\n",
    "test = pd.get_dummies(test)\n",
    "print(X.shape, train.shape, test.shape)"
   ]
  },
  {
   "cell_type": "code",
   "execution_count": null,
   "id": "d43787fe-9926-4e26-8b9d-3e3b9227d9f8",
   "metadata": {},
   "outputs": [],
   "source": [
    "x_train, x_test, y_train, y_test = train_test_split(X, y, test_size = 0.2, random_state = 0)"
   ]
  },
  {
   "cell_type": "code",
   "execution_count": null,
   "id": "085aa5c2-893f-4133-9304-01eb8babecdb",
   "metadata": {},
   "outputs": [],
   "source": [
    "kfold = StratifiedKFold(n_splits=5, random_state=42)\n",
    "# Logistic Regression\n",
    "log_reg = LogisticRegression(solver='lbfgs', max_iter=5000)\n",
    "log_scores = cross_val_score(log_reg, x_train, y_train, cv=kfold)\n",
    "log_reg_mean = log_scores.mean()\n",
    "# SVC\n",
    "svc_clf = SVC(gamma='auto')\n",
    "svc_scores = cross_val_score(svc_clf, x_train, y_train, cv=kfold)\n",
    "svc_mean = svc_scores.mean()\n",
    "# KNearestNeighbors\n",
    "knn_clf = KNeighborsClassifier()\n",
    "knn_scores = cross_val_score(knn_clf, x_train, y_train, cv=kfold)\n",
    "knn_mean = knn_scores.mean()\n",
    "# Decision Tree\n",
    "tree_clf = tree.DecisionTreeClassifier()\n",
    "tree_scores = cross_val_score(tree_clf, x_train, y_train, cv=kfold)\n",
    "tree_mean = tree_scores.mean()\n",
    "# Gradient Boosting Classifier\n",
    "grad_clf = GradientBoostingClassifier()\n",
    "grad_scores = cross_val_score(grad_clf, x_train, y_train, cv=kfold)\n",
    "grad_mean = grad_scores.mean()\n",
    "# Random Forest Classifier\n",
    "rand_clf = RandomForestClassifier(n_estimators=100)\n",
    "rand_scores = cross_val_score(rand_clf, x_train, y_train, cv=kfold)\n",
    "rand_mean = rand_scores.mean()\n",
    "# NeuralNet Classifier\n",
    "neural_clf = MLPClassifier(alpha=1)\n",
    "neural_scores = cross_val_score(neural_clf, x_train, y_train, cv=kfold)\n",
    "neural_mean = neural_scores.mean()\n",
    "# Naives Bayes\n",
    "nav_clf = GaussianNB()\n",
    "nav_scores = cross_val_score(nav_clf, x_train, y_train, cv=kfold)\n",
    "nav_mean = neural_scores.mean()\n",
    "# Create a Dataframe with the results.\n",
    "d = {'Classifiers': ['Logistic Reg.', 'SVC', 'KNN', 'Dec Tree', 'Grad B CLF', 'Rand FC', 'Neural Classifier', 'Naives Bayes'],\n",
    "'Crossval Mean Scores': [log_reg_mean, svc_mean, knn_mean, tree_mean, grad_mean, rand_mean, neural_mean, nav_mean]}\n",
    "result_df = pd.DataFrame(data=d)\n",
    "# Log Reg performed best\n",
    "result_df = result_df.sort_values(by=['Crossval Mean Scores'], ascending=False)\n",
    "print(result_df)"
   ]
  },
  {
   "cell_type": "code",
   "execution_count": null,
   "id": "ddc42e29-78bd-4b72-b81d-af9e159f93ba",
   "metadata": {},
   "outputs": [],
   "source": [
    "# Random Forest Classifier\n",
    "rand_clf = RandomForestClassifier(n_estimators=100).fit(x_train, y_train)\n",
    "# get importance\n",
    "plt.barh(X.columns, rand_clf.feature_importances_)\n",
    "plt.show()"
   ]
  },
  {
   "cell_type": "code",
   "execution_count": null,
   "id": "af85b336-07e2-46cb-8759-e2408268023e",
   "metadata": {},
   "outputs": [],
   "source": [
    "# Cross validate log reg classifier\n",
    "from sklearn.model_selection import cross_val_predict\n",
    "y_train_pred = cross_vald_predict(log_reg, x_train, y_train, cv = kfold)"
   ]
  }
 ],
 "metadata": {
  "kernelspec": {
   "display_name": "Python 3 (ipykernel)",
   "language": "python",
   "name": "python3"
  },
  "language_info": {
   "codemirror_mode": {
    "name": "ipython",
    "version": 3
   },
   "file_extension": ".py",
   "mimetype": "text/x-python",
   "name": "python",
   "nbconvert_exporter": "python",
   "pygments_lexer": "ipython3",
   "version": "3.9.12"
  }
 },
 "nbformat": 4,
 "nbformat_minor": 5
}
