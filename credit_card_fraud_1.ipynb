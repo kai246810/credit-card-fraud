{
 "cells": [
  {
   "cell_type": "code",
   "execution_count": null,
   "id": "1a19d456-e483-4d42-ba99-7bbaab0946f6",
   "metadata": {},
   "outputs": [],
   "source": [
    "import pandas as pd\n",
    "import numpy as np\n",
    "%matplotlib inline\n",
    "import matplotlib.pyplot as plt\n",
    "import matplotlib.lines as mlines\n",
    "from mpl_toolkits.mplot3d import Axes3D\n",
    "import seaborn as sns\n",
    "from sklearn.model_selection import train_test_split, learning_curve\n",
    "from sklearn.metrics import average_precision_score\n",
    "from xgboost.sklearn import XGBClassifier\n",
    "from xgboost import plot_importance, to_graphviz"
   ]
  },
  {
   "cell_type": "code",
   "execution_count": null,
   "id": "da2803eb-fb51-447e-a058-0023b6b91cdd",
   "metadata": {},
   "outputs": [],
   "source": [
    "import warnings\n",
    "warnings.filterwarnings(\"ignore\", category=DeprecationWarning)"
   ]
  },
  {
   "cell_type": "code",
   "execution_count": null,
   "id": "01a5ceb5-a528-4884-b88d-5d395b27934b",
   "metadata": {},
   "outputs": [],
   "source": [
    "df = pd.read_csv('../input/PS_20174392719_1491204439457_log.csv')\n",
    "df = df.rename(columns={'oldbalanceOrg':'oldBalanceOrig', 'newbalanceOrig':'newBalanceOrig', \\\n",
    "                        'oldbalanceDest':'oldBalanceDest', 'newbalanceDest':'newBalanceDest'})\n",
    "print(df.head())"
   ]
  },
  {
   "cell_type": "code",
   "execution_count": null,
   "id": "aeb7d5d4-0ae2-47f2-8d0e-97ef3576547c",
   "metadata": {},
   "outputs": [],
   "source": [
    "df.isnull().values.any()"
   ]
  },
  {
   "cell_type": "code",
   "execution_count": null,
   "id": "4f99063f-7b3d-4e1a-b9ce-f434e3294cfd",
   "metadata": {},
   "outputs": [],
   "source": [
    "print('\\n The types of fraudulent transactions are {}'.format(\\\n",
    "list(df.loc[df.isFraud == 1].type.drop_duplicates().values))) # only 'CASH_OUT' \n",
    "                                                             # & 'TRANSFER'\n",
    "\n",
    "dfFraudTransfer = df.loc[(df.isFraud == 1) & (df.type == 'TRANSFER')]\n",
    "dfFraudCashout = df.loc[(df.isFraud == 1) & (df.type == 'CASH_OUT')]\n",
    "\n",
    "print ('\\n The number of fraudulent TRANSFERs = {}'.\\\n",
    "       format(len(dfFraudTransfer))) # 4097\n",
    "\n",
    "print ('\\n The number of fraudulent CASH_OUTs = {}'.\\\n",
    "       format(len(dfFraudCashout))) # 4116"
   ]
  },
  {
   "cell_type": "code",
   "execution_count": null,
   "id": "3f5e87bc-bc51-4b49-9ea9-fedbbe592b3c",
   "metadata": {},
   "outputs": [],
   "source": [
    "print('\\nThe type of transactions in which isFlaggedFraud is set: \\\n",
    "{}'.format(list(df.loc[df.isFlaggedFraud == 1].type.drop_duplicates()))) \n",
    "                                                            # only 'TRANSFER'\n",
    "\n",
    "dfTransfer = df.loc[df.type == 'TRANSFER']\n",
    "dfFlagged = df.loc[df.isFlaggedFraud == 1]\n",
    "dfNotFlagged = df.loc[df.isFlaggedFraud == 0]\n",
    "\n",
    "print('\\nMin amount transacted when isFlaggedFraud is set= {}'\\\n",
    "                                  .format(dfFlagged.amount.min())) # 353874.22\n",
    "\n",
    "print('\\nMax amount transacted in a TRANSFER where isFlaggedFraud is not set=\\\n",
    " {}'.format(dfTransfer.loc[dfTransfer.isFlaggedFraud == 0].amount.max())) # 92445516.64"
   ]
  },
  {
   "cell_type": "code",
   "execution_count": null,
   "id": "34674439-b404-4381-b12b-c077b691ca30",
   "metadata": {},
   "outputs": [],
   "source": [
    "print('\\nThe number of TRANSFERs where isFlaggedFraud = 0, yet oldBalanceDest = 0 and\\\n",
    " newBalanceDest = 0: {}'.\\\n",
    "format(len(dfTransfer.loc[(dfTransfer.isFlaggedFraud == 0) & \\\n",
    "(dfTransfer.oldBalanceDest == 0) & (dfTransfer.newBalanceDest == 0)]))) # 4158"
   ]
  },
  {
   "cell_type": "code",
   "execution_count": null,
   "id": "dc4bd298-d1e2-4cee-950c-463b900adf78",
   "metadata": {},
   "outputs": [],
   "source": [
    "print('\\nMin, Max of oldBalanceOrig for isFlaggedFraud = 1 TRANSFERs: {}'.\\\n",
    "format([round(dfFlagged.oldBalanceOrig.min()), round(dfFlagged.oldBalanceOrig.max())]))\n",
    "\n",
    "print('\\nMin, Max of oldBalanceOrig for isFlaggedFraud = 0 TRANSFERs where \\\n",
    "oldBalanceOrig = \\\n",
    "newBalanceOrig: {}'.format(\\\n",
    "[dfTransfer.loc[(dfTransfer.isFlaggedFraud == 0) & (dfTransfer.oldBalanceOrig \\\n",
    "== dfTransfer.newBalanceOrig)].oldBalanceOrig.min(), \\\n",
    "round(dfTransfer.loc[(dfTransfer.isFlaggedFraud == 0) & (dfTransfer.oldBalanceOrig \\\n",
    "               == dfTransfer.newBalanceOrig)].oldBalanceOrig.max())]))"
   ]
  },
  {
   "cell_type": "code",
   "execution_count": null,
   "id": "8cb6ab05-b007-4540-a512-d28fc132549d",
   "metadata": {},
   "outputs": [],
   "source": [
    "print('\\nHave originators of transactions flagged as fraud transacted more than \\\n",
    "once? {}'\\\n",
    ".format((dfFlagged.nameOrig.isin(pd.concat([dfNotFlagged.nameOrig, \\\n",
    "                                    dfNotFlagged.nameDest]))).any())) # False\n",
    "\n",
    "print('\\nHave destinations for transactions flagged as fraud initiated\\\n",
    " other transactions? \\\n",
    "{}'.format((dfFlagged.nameDest.isin(dfNotFlagged.nameOrig)).any())) # False\n",
    "\n",
    "# Since only 2 destination accounts of 16 that have 'isFlaggedFraud' set have been\n",
    "# destination accounts more than once,\n",
    "# clearly 'isFlaggedFraud' being set is independent of whether a \n",
    "# destination account has been used before or not\n",
    "\n",
    "print('\\nHow many destination accounts of transactions flagged as fraud have been \\\n",
    "destination accounts more than once?: {}'\\\n",
    ".format(sum(dfFlagged.nameDest.isin(dfNotFlagged.nameDest)))) # 2"
   ]
  },
  {
   "cell_type": "code",
   "execution_count": null,
   "id": "af7c08bb-abef-4b38-8c39-554e842e7831",
   "metadata": {},
   "outputs": [],
   "source": [
    "print('\\nAre there any merchants among originator accounts for CASH_IN \\\n",
    "transactions? {}'.format(\\\n",
    "(df.loc[df.type == 'CASH_IN'].nameOrig.str.contains('M')).any())) # False"
   ]
  },
  {
   "cell_type": "code",
   "execution_count": null,
   "id": "600a8879-2eae-46b8-9660-b4fee0f67b25",
   "metadata": {},
   "outputs": [],
   "source": [
    "print('\\nAre there any merchants among destination accounts for CASH_OUT \\\n",
    "transactions? {}'.format(\\\n",
    "(df.loc[df.type == 'CASH_OUT'].nameDest.str.contains('M')).any())) # False"
   ]
  },
  {
   "cell_type": "code",
   "execution_count": null,
   "id": "035e77cd-0e6d-4071-8a45-a6d1945bfb77",
   "metadata": {},
   "outputs": [],
   "source": [
    "print('\\nAre there merchants among any originator accounts? {}'.format(\\\n",
    "      df.nameOrig.str.contains('M').any())) # False\n",
    "\n",
    "print('\\nAre there any transactions having merchants among destination accounts\\\n",
    " other than the PAYMENT type? {}'.format(\\\n",
    "(df.loc[df.nameDest.str.contains('M')].type != 'PAYMENT').any())) # False"
   ]
  },
  {
   "cell_type": "code",
   "execution_count": null,
   "id": "da998b37-350b-479d-aed6-8449c64d66e2",
   "metadata": {},
   "outputs": [],
   "source": [
    "print('\\nWithin fraudulent transactions, are there destinations for TRANSFERS \\\n",
    "that are also originators for CASH_OUTs? {}'.format(\\\n",
    "(dfFraudTransfer.nameDest.isin(dfFraudCashout.nameOrig)).any())) # False\n",
    "dfNotFraud = df.loc[df.isFraud == 0]"
   ]
  },
  {
   "cell_type": "code",
   "execution_count": null,
   "id": "ce16baf5-da29-4b0f-8229-b586334f7a16",
   "metadata": {},
   "outputs": [],
   "source": [
    "print('\\nFraudulent TRANSFERs whose destination accounts are originators of \\\n",
    "genuine CASH_OUTs: \\n\\n{}'.format(dfFraudTransfer.loc[dfFraudTransfer.nameDest.\\\n",
    "isin(dfNotFraud.loc[dfNotFraud.type == 'CASH_OUT'].nameOrig.drop_duplicates())]))"
   ]
  },
  {
   "cell_type": "code",
   "execution_count": null,
   "id": "7c02d8d9-16f5-445e-9ae1-8120129356ed",
   "metadata": {},
   "outputs": [],
   "source": [
    "print('\\nFraudulent TRANSFER to C423543548 occured at step = 486 whereas \\\n",
    "genuine CASH_OUT from this account occured earlier at step = {}'.format(\\\n",
    "dfNotFraud.loc[(dfNotFraud.type == 'CASH_OUT') & (dfNotFraud.nameOrig == \\\n",
    "                           'C423543548')].step.values)) # 185"
   ]
  },
  {
   "cell_type": "code",
   "execution_count": null,
   "id": "cd4a5b8e-1e77-48f4-afd1-1c69e8153ade",
   "metadata": {},
   "outputs": [],
   "source": [
    "X = df.loc[(df.type == 'TRANSFER') | (df.type == 'CASH_OUT')]\n",
    "\n",
    "randomState = 5\n",
    "np.random.seed(randomState)\n",
    "\n",
    "#X = X.loc[np.random.choice(X.index, 100000, replace = False)]\n",
    "\n",
    "Y = X['isFraud']\n",
    "del X['isFraud']\n",
    "\n",
    "# Eliminate columns shown to be irrelevant for analysis in the EDA\n",
    "X = X.drop(['nameOrig', 'nameDest', 'isFlaggedFraud'], axis = 1)\n",
    "\n",
    "# Binary-encoding of labelled data in 'type'\n",
    "X.loc[X.type == 'TRANSFER', 'type'] = 0\n",
    "X.loc[X.type == 'CASH_OUT', 'type'] = 1\n",
    "X.type = X.type.astype(int) # convert dtype('O') to dtype(int)"
   ]
  },
  {
   "cell_type": "code",
   "execution_count": null,
   "id": "a8a6158b-0752-448a-852c-a0c82fe78523",
   "metadata": {},
   "outputs": [],
   "source": [
    "Xfraud = X.loc[Y == 1]\n",
    "XnonFraud = X.loc[Y == 0]\n",
    "print('\\nThe fraction of fraudulent transactions with \\'oldBalanceDest\\' = \\\n",
    "\\'newBalanceDest\\' = 0 although the transacted \\'amount\\' is non-zero is: {}'.\\\n",
    "format(len(Xfraud.loc[(Xfraud.oldBalanceDest == 0) & \\\n",
    "(Xfraud.newBalanceDest == 0) & (Xfraud.amount)]) / (1.0 * len(Xfraud))))\n",
    "\n",
    "print('\\nThe fraction of genuine transactions with \\'oldBalanceDest\\' = \\\n",
    "newBalanceDest\\' = 0 although the transacted \\'amount\\' is non-zero is: {}'.\\\n",
    "format(len(XnonFraud.loc[(XnonFraud.oldBalanceDest == 0) & \\\n",
    "(XnonFraud.newBalanceDest == 0) & (XnonFraud.amount)]) / (1.0 * len(XnonFraud))))"
   ]
  },
  {
   "cell_type": "code",
   "execution_count": null,
   "id": "09baacf7-879c-4059-ab8b-becef2be6ad6",
   "metadata": {},
   "outputs": [],
   "source": [
    "X.loc[(X.oldBalanceDest == 0) & (X.newBalanceDest == 0) & (X.amount != 0), \\\n",
    "      ['oldBalanceDest', 'newBalanceDest']] = - 1"
   ]
  },
  {
   "cell_type": "code",
   "execution_count": null,
   "id": "8e110d75-aa01-48bf-ab1d-1cae3d0cab93",
   "metadata": {},
   "outputs": [],
   "source": [
    "X.loc[(X.oldBalanceOrig == 0) & (X.newBalanceOrig == 0) & (X.amount != 0), \\\n",
    "      ['oldBalanceOrig', 'newBalanceOrig']] = np.nan"
   ]
  },
  {
   "cell_type": "code",
   "execution_count": null,
   "id": "6ea80cf8-8ea1-453b-8ab8-2be1b0617ae6",
   "metadata": {},
   "outputs": [],
   "source": [
    "X['errorBalanceOrig'] = X.newBalanceOrig + X.amount - X.oldBalanceOrig\n",
    "X['errorBalanceDest'] = X.oldBalanceDest + X.amount - X.newBalanceDest"
   ]
  },
  {
   "cell_type": "code",
   "execution_count": null,
   "id": "2cd63afc-eb6d-462a-aa33-8c0900703ff7",
   "metadata": {},
   "outputs": [],
   "source": [
    "limit = len(X)\n",
    "\n",
    "def plotStrip(x, y, hue, figsize = (14, 9)):\n",
    "    \n",
    "    fig = plt.figure(figsize = figsize)\n",
    "    colours = plt.cm.tab10(np.linspace(0, 1, 9))\n",
    "    with sns.axes_style('ticks'):\n",
    "        ax = sns.stripplot(x, y, \\\n",
    "             hue = hue, jitter = 0.4, marker = '.', \\\n",
    "             size = 4, palette = colours)\n",
    "        ax.set_xlabel('')\n",
    "        ax.set_xticklabels(['genuine', 'fraudulent'], size = 16)\n",
    "        for axis in ['top','bottom','left','right']:\n",
    "            ax.spines[axis].set_linewidth(2)\n",
    "\n",
    "        handles, labels = ax.get_legend_handles_labels()\n",
    "        plt.legend(handles, ['Transfer', 'Cash out'], bbox_to_anchor=(1, 1), \\\n",
    "               loc=2, borderaxespad=0, fontsize = 16);\n",
    "    return ax"
   ]
  },
  {
   "cell_type": "code",
   "execution_count": null,
   "id": "418df2ed-7a6b-4af0-bfd8-dae81222dce8",
   "metadata": {},
   "outputs": [],
   "source": [
    "ax = plotStrip(Y[:limit], X.step[:limit], X.type[:limit])\n",
    "ax.set_ylabel('time [hour]', size = 16)\n",
    "ax.set_title('Striped vs. homogenous fingerprints of genuine and fraudulent \\\n",
    "transactions over time', size = 20);"
   ]
  },
  {
   "cell_type": "code",
   "execution_count": null,
   "id": "c82cd635-c274-49e3-aa63-afc248922710",
   "metadata": {},
   "outputs": [],
   "source": [
    "limit = len(X)\n",
    "ax = plotStrip(Y[:limit], X.amount[:limit], X.type[:limit], figsize = (14, 9))\n",
    "ax.set_ylabel('amount', size = 16)\n",
    "ax.set_title('Same-signed fingerprints of genuine \\\n",
    "and fraudulent transactions over amount', size = 18);"
   ]
  },
  {
   "cell_type": "code",
   "execution_count": null,
   "id": "8cc8d5f0-6cd7-4fff-81d1-7a27d8434130",
   "metadata": {},
   "outputs": [],
   "source": [
    "limit = len(X)\n",
    "ax = plotStrip(Y[:limit], - X.errorBalanceDest[:limit], X.type[:limit], \\\n",
    "              figsize = (14, 9))\n",
    "ax.set_ylabel('- errorBalanceDest', size = 16)\n",
    "ax.set_title('Opposite polarity fingerprints over the error in \\\n",
    "destination account balances', size = 18);"
   ]
  },
  {
   "cell_type": "code",
   "execution_count": null,
   "id": "897a2694-bff3-4611-9e13-ee30972e4165",
   "metadata": {},
   "outputs": [],
   "source": [
    "# Long computation in this cell (~2.5 minutes)\n",
    "x = 'errorBalanceDest'\n",
    "y = 'step'\n",
    "z = 'errorBalanceOrig'\n",
    "zOffset = 0.02\n",
    "limit = len(X)\n",
    "\n",
    "sns.reset_orig() # prevent seaborn from over-riding mplot3d defaults\n",
    "\n",
    "fig = plt.figure(figsize = (10, 12))\n",
    "ax = fig.add_subplot(111, projection='3d')\n",
    "\n",
    "ax.scatter(X.loc[Y == 0, x][:limit], X.loc[Y == 0, y][:limit], \\\n",
    "  -np.log10(X.loc[Y == 0, z][:limit] + zOffset), c = 'g', marker = '.', \\\n",
    "  s = 1, label = 'genuine')\n",
    "    \n",
    "ax.scatter(X.loc[Y == 1, x][:limit], X.loc[Y == 1, y][:limit], \\\n",
    "  -np.log10(X.loc[Y == 1, z][:limit] + zOffset), c = 'r', marker = '.', \\\n",
    "  s = 1, label = 'fraudulent')\n",
    "\n",
    "ax.set_xlabel(x, size = 16); \n",
    "ax.set_ylabel(y + ' [hour]', size = 16); \n",
    "ax.set_zlabel('- log$_{10}$ (' + z + ')', size = 16)\n",
    "ax.set_title('Error-based features separate out genuine and fraudulent \\\n",
    "transactions', size = 20)\n",
    "\n",
    "plt.axis('tight')\n",
    "ax.grid(1)\n",
    "\n",
    "noFraudMarker = mlines.Line2D([], [], linewidth = 0, color='g', marker='.',\n",
    "                          markersize = 10, label='genuine')\n",
    "fraudMarker = mlines.Line2D([], [], linewidth = 0, color='r', marker='.',\n",
    "                          markersize = 10, label='fraudulent')\n",
    "\n",
    "plt.legend(handles = [noFraudMarker, fraudMarker], \\\n",
    "           bbox_to_anchor = (1.20, 0.38 ), frameon = False, prop={'size': 16});"
   ]
  },
  {
   "cell_type": "code",
   "execution_count": null,
   "id": "a46d5238-831b-4745-84d0-7f19ad904034",
   "metadata": {},
   "outputs": [],
   "source": [
    "Xfraud = X.loc[Y == 1] # update Xfraud & XnonFraud with cleaned data\n",
    "XnonFraud = X.loc[Y == 0]\n",
    "                  \n",
    "correlationNonFraud = XnonFraud.loc[:, X.columns != 'step'].corr()\n",
    "mask = np.zeros_like(correlationNonFraud)\n",
    "indices = np.triu_indices_from(correlationNonFraud)\n",
    "mask[indices] = True\n",
    "\n",
    "grid_kws = {\"width_ratios\": (.9, .9, .05), \"wspace\": 0.2}\n",
    "f, (ax1, ax2, cbar_ax) = plt.subplots(1, 3, gridspec_kw=grid_kws, \\\n",
    "                                     figsize = (14, 9))\n",
    "\n",
    "cmap = sns.diverging_palette(220, 8, as_cmap=True)\n",
    "ax1 =sns.heatmap(correlationNonFraud, ax = ax1, vmin = -1, vmax = 1, \\\n",
    "    cmap = cmap, square = False, linewidths = 0.5, mask = mask, cbar = False)\n",
    "ax1.set_xticklabels(ax1.get_xticklabels(), size = 16); \n",
    "ax1.set_yticklabels(ax1.get_yticklabels(), size = 16); \n",
    "ax1.set_title('Genuine \\n transactions', size = 20)\n",
    "\n",
    "correlationFraud = Xfraud.loc[:, X.columns != 'step'].corr()\n",
    "ax2 = sns.heatmap(correlationFraud, vmin = -1, vmax = 1, cmap = cmap, \\\n",
    " ax = ax2, square = False, linewidths = 0.5, mask = mask, yticklabels = False, \\\n",
    "    cbar_ax = cbar_ax, cbar_kws={'orientation': 'vertical', \\\n",
    "                                 'ticks': [-1, -0.5, 0, 0.5, 1]})\n",
    "ax2.set_xticklabels(ax2.get_xticklabels(), size = 16); \n",
    "ax2.set_title('Fraudulent \\n transactions', size = 20);\n",
    "\n",
    "cbar_ax.set_yticklabels(cbar_ax.get_yticklabels(), size = 14);"
   ]
  },
  {
   "cell_type": "code",
   "execution_count": null,
   "id": "4332183a-2d00-43de-8281-faff8ed8b5f4",
   "metadata": {},
   "outputs": [],
   "source": [
    "print('skew = {}'.format( len(Xfraud) / float(len(X)) ))"
   ]
  },
  {
   "cell_type": "code",
   "execution_count": null,
   "id": "c3c42653-d0ab-496c-8129-60a7b86302ae",
   "metadata": {},
   "outputs": [],
   "source": [
    "trainX, testX, trainY, testY = train_test_split(X, Y, test_size = 0.2, \\\n",
    "                                                random_state = randomState)"
   ]
  },
  {
   "cell_type": "code",
   "execution_count": null,
   "id": "77df028d-8245-4566-907c-0fc4805268fa",
   "metadata": {},
   "outputs": [],
   "source": [
    "# Long computation in this cell (~1.8 minutes)\n",
    "weights = (Y == 0).sum() / (1.0 * (Y == 1).sum())\n",
    "clf = XGBClassifier(max_depth = 3, scale_pos_weight = weights, \\\n",
    "                n_jobs = 4)\n",
    "probabilities = clf.fit(trainX, trainY).predict_proba(testX)\n",
    "print('AUPRC = {}'.format(average_precision_score(testY, \\\n",
    "                                              probabilities[:, 1])))"
   ]
  },
  {
   "cell_type": "code",
   "execution_count": null,
   "id": "7e40308c-b774-4cbc-8096-ddd329034ac6",
   "metadata": {},
   "outputs": [],
   "source": [
    "fig = plt.figure(figsize = (14, 9))\n",
    "ax = fig.add_subplot(111)\n",
    "\n",
    "colours = plt.cm.Set1(np.linspace(0, 1, 9))\n",
    "\n",
    "ax = plot_importance(clf, height = 1, color = colours, grid = False, \\\n",
    "                     show_values = False, importance_type = 'cover', ax = ax);\n",
    "for axis in ['top','bottom','left','right']:\n",
    "            ax.spines[axis].set_linewidth(2)\n",
    "        \n",
    "ax.set_xlabel('importance score', size = 16);\n",
    "ax.set_ylabel('features', size = 16);\n",
    "ax.set_yticklabels(ax.get_yticklabels(), size = 12);\n",
    "ax.set_title('Ordering of features by importance to the model learnt', size = 20);"
   ]
  }
 ],
 "metadata": {
  "kernelspec": {
   "display_name": "Python 3 (ipykernel)",
   "language": "python",
   "name": "python3"
  },
  "language_info": {
   "codemirror_mode": {
    "name": "ipython",
    "version": 3
   },
   "file_extension": ".py",
   "mimetype": "text/x-python",
   "name": "python",
   "nbconvert_exporter": "python",
   "pygments_lexer": "ipython3",
   "version": "3.9.12"
  }
 },
 "nbformat": 4,
 "nbformat_minor": 5
}
