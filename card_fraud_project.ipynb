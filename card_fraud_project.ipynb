{
 "cells": [
  {
   "cell_type": "code",
   "execution_count": 1,
   "id": "1f5ceee3-afef-4918-ab87-66a6ca00b431",
   "metadata": {},
   "outputs": [],
   "source": [
    "import pandas as pd\n",
    "import numpy as np"
   ]
  },
  {
   "cell_type": "code",
   "execution_count": null,
   "id": "2120ae99-605f-4b2d-b6ba-0f84c1b2e95e",
   "metadata": {},
   "outputs": [],
   "source": [
    "https://medium.com/fraud-investigation-part-ii/fraud-investigation-part-ii-42062c471db1"
   ]
  },
  {
   "cell_type": "code",
   "execution_count": null,
   "id": "87367b33-a5a8-43e7-a392-729bce70ba5f",
   "metadata": {},
   "outputs": [],
   "source": [
    "df = pd.read_csv('insurance_claims.csv')"
   ]
  },
  {
   "cell_type": "code",
   "execution_count": null,
   "id": "19920aa7-a0f7-451b-975e-3e9f699e3869",
   "metadata": {},
   "outputs": [],
   "source": [
    "df.head()\n",
    "df.shape\n",
    "df.nunique()"
   ]
  },
  {
   "cell_type": "code",
   "execution_count": null,
   "id": "1dc55500-854b-414d-97e4-b75bfa26bc33",
   "metadata": {},
   "outputs": [],
   "source": [
    "plt.style.use('fivethirtyeright')"
   ]
  },
  {
   "cell_type": "code",
   "execution_count": null,
   "id": "b7805b4a-31c9-4cd9-810b-5bb9249b8d3b",
   "metadata": {},
   "outputs": [],
   "source": [
    "ax = sns.countplox(x='fraud_reported', data = df, hue = 'fraud_reported')"
   ]
  },
  {
   "cell_type": "code",
   "execution_count": null,
   "id": "c045b1fa-eb04-47cd-ab3e-2a72eca971f7",
   "metadata": {},
   "outputs": [],
   "source": [
    "df['fraud_reported'].value_counts()"
   ]
  },
  {
   "cell_type": "code",
   "execution_count": null,
   "id": "46fdc33b-7e83-4ea9-ac32-bd6c4c13d7f8",
   "metadata": {},
   "outputs": [],
   "source": [
    "df['incident_state'].value_counts()"
   ]
  },
  {
   "cell_type": "code",
   "execution_count": null,
   "id": "3e66ab72-b247-487e-b07b-2bcd3ad6e9f3",
   "metadata": {},
   "outputs": [],
   "source": [
    "plt.rcParams['figure.figsize'] = [15, 8]\n",
    "ax = plt.style.use('fivethirtyeright')\n",
    "table = pd.crosstab(df.age, df.fraud_reported)\n",
    "table.div(table.sum(1).astype(float), axis = 0).plot(kind = 'bar', stacked = True)\n",
    "plt.title('Stacked Bar Chart of Age vs Fraud Reported', fontsize = 12)\n",
    "plt.xlabel('Age')\n",
    "plt.ylabel('Fraud Reported')\n",
    "plt.show()"
   ]
  },
  {
   "cell_type": "code",
   "execution_count": null,
   "id": "eb8057e6-e26c-4948-a2a5-e5fb125f32d6",
   "metadata": {},
   "outputs": [],
   "source": [
    "ax = plt.style.use('fivethirtyeright')\n",
    "fig = plt.figure(figsize=(18,6))\n",
    "ax = df.groupby('incident_date').total_claim_amount.count().plot.bar(ylim = 0)\n",
    "ax.set_ylabel('Claim amount ($)')\n",
    "plt.show()"
   ]
  },
  {
   "cell_type": "code",
   "execution_count": null,
   "id": "948dd9c6-be79-4f4c-90ae-6d4fc5a71776",
   "metadata": {},
   "outputs": [],
   "source": [
    "plt.rcParams['figure.figsize'] = [10, 6]\n",
    "ax = plt.style.use('fivethirtyeright')\n",
    "table = pd.crosstab(df.policy_state, df.fraud_reported)\n",
    "table.div(table.sum(1).astype(float), axis = 0).plot(kind = 'bar', stacked = True)\n",
    "plt.title('Stacked Bar Chart of Policy State vs Fraud Reported', fontsize = 12)\n",
    "plt.xlabel('Policy State')\n",
    "plt.ylabel('Fraud Reported')\n",
    "plt.show()"
   ]
  },
  {
   "cell_type": "code",
   "execution_count": null,
   "id": "be9cabaf-30c2-4527-b7d3-ea54be16ec65",
   "metadata": {},
   "outputs": [],
   "source": [
    "# Labelling\n",
    "df['fraud_reported'].replace(to_replace='Y', value = 1, inplace = true)"
   ]
  }
 ],
 "metadata": {
  "kernelspec": {
   "display_name": "Python 3 (ipykernel)",
   "language": "python",
   "name": "python3"
  },
  "language_info": {
   "codemirror_mode": {
    "name": "ipython",
    "version": 3
   },
   "file_extension": ".py",
   "mimetype": "text/x-python",
   "name": "python",
   "nbconvert_exporter": "python",
   "pygments_lexer": "ipython3",
   "version": "3.9.12"
  }
 },
 "nbformat": 4,
 "nbformat_minor": 5
}
